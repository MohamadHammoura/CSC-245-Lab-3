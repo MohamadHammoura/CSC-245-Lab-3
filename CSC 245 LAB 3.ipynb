{
 "cells": [
  {
   "cell_type": "code",
   "execution_count": 1,
   "id": "a9cba700",
   "metadata": {},
   "outputs": [],
   "source": [
    "import  pandas as pd"
   ]
  },
  {
   "cell_type": "code",
   "execution_count": 2,
   "id": "0b0875d9",
   "metadata": {},
   "outputs": [
    {
     "name": "stdout",
     "output_type": "stream",
     "text": [
      "  student_id              name  marks\n",
      "0         S1  Danniella Fenton    200\n",
      "1         S2      Ryder Storey    210\n",
      "2         S3      Bryce Jensen    190\n",
      "3         S4         Ed Bernal    222\n",
      "4         S5       Kwame Morin    199\n",
      "5         S4  Scarlette Fisher    201\n",
      "6         S5  Carla Williamson    200\n",
      "7         S6       Dante Morse    198\n",
      "8         S7    Kaiser William    219\n",
      "9         S8   Madeeha Preston    201\n"
     ]
    }
   ],
   "source": [
    "#1\n",
    "import pandas as pd\n",
    "\n",
    "# Test Data\n",
    "student_data1 = pd.DataFrame({\n",
    "    'student_id': ['S1', 'S2', 'S3', 'S4', 'S5'],\n",
    "    'name': ['Danniella Fenton', 'Ryder Storey', 'Bryce Jensen', 'Ed Bernal', 'Kwame Morin'],\n",
    "    'marks': [200, 210, 190, 222, 199]\n",
    "})\n",
    "\n",
    "student_data2 = pd.DataFrame({\n",
    "    'student_id': ['S4', 'S5', 'S6', 'S7', 'S8'],\n",
    "    'name': ['Scarlette Fisher', 'Carla Williamson', 'Dante Morse', 'Kaiser William', 'Madeeha Preston'],\n",
    "    'marks': [201, 200, 198, 219, 201]\n",
    "})\n",
    "\n",
    "# Joining the dataframes along rows and assigning all data\n",
    "joined_data = pd.concat([student_data1, student_data2], ignore_index=True)\n",
    "\n",
    "print(joined_data)"
   ]
  },
  {
   "cell_type": "code",
   "execution_count": 3,
   "id": "c4049c80",
   "metadata": {},
   "outputs": [
    {
     "name": "stdout",
     "output_type": "stream",
     "text": [
      "  student_id              name  marks student_id              name  marks\n",
      "0         S1  Danniella Fenton    200         S4  Scarlette Fisher    201\n",
      "1         S2      Ryder Storey    210         S5  Carla Williamson    200\n",
      "2         S3      Bryce Jensen    190         S6       Dante Morse    198\n",
      "3         S4         Ed Bernal    222         S7    Kaiser William    219\n",
      "4         S5       Kwame Morin    199         S8   Madeeha Preston    201\n"
     ]
    }
   ],
   "source": [
    "#2\n",
    "import pandas as pd\n",
    "\n",
    "# Test Data\n",
    "student_data1 = pd.DataFrame({\n",
    "    'student_id': ['S1', 'S2', 'S3', 'S4', 'S5'],\n",
    "    'name': ['Danniella Fenton', 'Ryder Storey', 'Bryce Jensen', 'Ed Bernal', 'Kwame Morin'],\n",
    "    'marks': [200, 210, 190, 222, 199]\n",
    "})\n",
    "\n",
    "student_data2 = pd.DataFrame({\n",
    "    'student_id': ['S4', 'S5', 'S6', 'S7', 'S8'],\n",
    "    'name': ['Scarlette Fisher', 'Carla Williamson', 'Dante Morse', 'Kaiser William', 'Madeeha Preston'],\n",
    "    'marks': [201, 200, 198, 219, 201]\n",
    "})\n",
    "\n",
    "# Joining the dataframes along columns and assigning all data\n",
    "joined_data = pd.concat([student_data1, student_data2], axis=1)\n",
    "\n",
    "print(joined_data)\n"
   ]
  },
  {
   "cell_type": "code",
   "execution_count": 7,
   "id": "55685023",
   "metadata": {},
   "outputs": [
    {
     "name": "stdout",
     "output_type": "stream",
     "text": [
      "  student_id              name  marks\n",
      "0         S1  Danniella Fenton    200\n",
      "1         S2      Ryder Storey    210\n",
      "2         S3      Bryce Jensen    190\n",
      "3         S4         Ed Bernal    222\n",
      "4         S5       Kwame Morin    199\n",
      "5         S6  Scarlette Fisher    205\n"
     ]
    }
   ],
   "source": [
    "#3\n",
    "import pandas as pd\n",
    "\n",
    "# Existing DataFrame\n",
    "student_data1 = pd.DataFrame({\n",
    "    'student_id': ['S1', 'S2', 'S3', 'S4', 'S5'],\n",
    "    'name': ['Danniella Fenton', 'Ryder Storey', 'Bryce Jensen', 'Ed Bernal', 'Kwame Morin'],\n",
    "    'marks': [200, 210, 190, 222, 199]\n",
    "})\n",
    "\n",
    "# New Row(s)\n",
    "new_row = pd.DataFrame({'student_id': ['S6'], 'name': ['Scarlette Fisher'], 'marks': [205]})\n",
    "\n",
    "# Append the new row to the existing DataFrame\n",
    "student_data1 = pd.concat([student_data1, new_row], ignore_index=True)\n",
    "\n",
    "# Display the combined data\n",
    "print(student_data1)\n"
   ]
  },
  {
   "cell_type": "code",
   "execution_count": 9,
   "id": "650261ec",
   "metadata": {},
   "outputs": [
    {
     "name": "stdout",
     "output_type": "stream",
     "text": [
      "  student_id              name  marks\n",
      "0         S1  Danniella Fenton    200\n",
      "1         S2      Ryder Storey    210\n",
      "2         S3      Bryce Jensen    190\n",
      "3         S4         Ed Bernal    222\n",
      "4         S5       Kwame Morin    199\n",
      "5         S6  Scarlette Fisher    205\n"
     ]
    }
   ],
   "source": [
    "#4\n",
    "import pandas as pd\n",
    "\n",
    "# Existing DataFrame\n",
    "student_data = pd.DataFrame({\n",
    "    'student_id': ['S1', 'S2', 'S3', 'S4', 'S5'],\n",
    "    'name': ['Danniella Fenton', 'Ryder Storey', 'Bryce Jensen', 'Ed Bernal', 'Kwame Morin'],\n",
    "    'marks': [200, 210, 190, 222, 199]\n",
    "})\n",
    "\n",
    "# New Dictionary\n",
    "new_data = {'student_id': 'S6', 'name': 'Scarlette Fisher', 'marks': 205}\n",
    "\n",
    "# Convert the dictionary to a DataFrame and append it to the existing DataFrame\n",
    "new_row = pd.DataFrame([new_data])\n",
    "\n",
    "# Append the new DataFrame to the existing DataFrame\n",
    "student_data = pd.concat([student_data, new_row], ignore_index=True)\n",
    "\n",
    "# Display the combined data\n",
    "print(student_data)\n"
   ]
  },
  {
   "cell_type": "code",
   "execution_count": 10,
   "id": "60dc8441",
   "metadata": {},
   "outputs": [
    {
     "name": "stdout",
     "output_type": "stream",
     "text": [
      "  student_id              name  marks  exam_id\n",
      "0         S1  Danniella Fenton    200       23\n",
      "1         S2      Ryder Storey    210       45\n",
      "2         S3      Bryce Jensen    190       12\n",
      "3         S4         Ed Bernal    222       67\n",
      "4         S4  Scarlette Fisher    201       67\n",
      "5         S5       Kwame Morin    199       21\n",
      "6         S5  Carla Williamson    200       21\n",
      "7         S7    Kaiser William    219       55\n",
      "8         S8   Madeeha Preston    201       33\n"
     ]
    }
   ],
   "source": [
    "#5\n",
    "import pandas as pd\n",
    "\n",
    "# Test Data\n",
    "student_data1 = pd.DataFrame({\n",
    "    'student_id': ['S1', 'S2', 'S3', 'S4', 'S5'],\n",
    "    'name': ['Danniella Fenton', 'Ryder Storey', 'Bryce Jensen', 'Ed Bernal', 'Kwame Morin'],\n",
    "    'marks': [200, 210, 190, 222, 199]\n",
    "})\n",
    "\n",
    "student_data2 = pd.DataFrame({\n",
    "    'student_id': ['S4', 'S5', 'S6', 'S7', 'S8'],\n",
    "    'name': ['Scarlette Fisher', 'Carla Williamson', 'Dante Morse', 'Kaiser William', 'Madeeha Preston'],\n",
    "    'marks': [201, 200, 198, 219, 201]\n",
    "})\n",
    "\n",
    "exam_data = pd.DataFrame({\n",
    "    'student_id': ['S1', 'S2', 'S3', 'S4', 'S5', 'S7', 'S8', 'S9', 'S10', 'S11', 'S12', 'S13'],\n",
    "    'exam_id': [23, 45, 12, 67, 21, 55, 33, 14, 56, 83, 88, 12]\n",
    "})\n",
    "\n",
    "# Joining the dataframes along rows\n",
    "combined_student_data = pd.concat([student_data1, student_data2], ignore_index=True)\n",
    "\n",
    "# Merging with exam_data dataframe\n",
    "final_data = pd.merge(combined_student_data, exam_data, on='student_id')\n",
    "\n",
    "# Displaying the final combined data\n",
    "print(final_data)\n"
   ]
  },
  {
   "cell_type": "code",
   "execution_count": 11,
   "id": "9b97471e",
   "metadata": {},
   "outputs": [
    {
     "name": "stdout",
     "output_type": "stream",
     "text": [
      "  student_id name_student_data1  marks_student_data1 name_student_data2  \\\n",
      "0         S4          Ed Bernal                  222   Scarlette Fisher   \n",
      "1         S5        Kwame Morin                  199   Carla Williamson   \n",
      "\n",
      "   marks_student_data2  \n",
      "0                  201  \n",
      "1                  200  \n"
     ]
    }
   ],
   "source": [
    "#6\n",
    "import pandas as pd\n",
    "\n",
    "# Test Data\n",
    "student_data1 = pd.DataFrame({\n",
    "    'student_id': ['S1', 'S2', 'S3', 'S4', 'S5'],\n",
    "    'name': ['Danniella Fenton', 'Ryder Storey', 'Bryce Jensen', 'Ed Bernal', 'Kwame Morin'],\n",
    "    'marks': [200, 210, 190, 222, 199]\n",
    "})\n",
    "\n",
    "student_data2 = pd.DataFrame({\n",
    "    'student_id': ['S4', 'S5', 'S6', 'S7', 'S8'],\n",
    "    'name': ['Scarlette Fisher', 'Carla Williamson', 'Dante Morse', 'Kaiser William', 'Madeeha Preston'],\n",
    "    'marks': [201, 200, 198, 219, 201]\n",
    "})\n",
    "\n",
    "# Joining the dataframes using the common column 'student_id'\n",
    "merged_data = pd.merge(student_data1, student_data2, on='student_id', suffixes=('_student_data1', '_student_data2'))\n",
    "\n",
    "# Displaying the merged data\n",
    "print(merged_data)\n"
   ]
  },
  {
   "cell_type": "code",
   "execution_count": 12,
   "id": "f22f1e5a",
   "metadata": {},
   "outputs": [
    {
     "name": "stdout",
     "output_type": "stream",
     "text": [
      "  student_id name_student_data1  marks_student_data1 name_student_data2  \\\n",
      "0         S4          Ed Bernal                  222   Scarlette Fisher   \n",
      "1         S5        Kwame Morin                  199   Carla Williamson   \n",
      "\n",
      "   marks_student_data2  \n",
      "0                  201  \n",
      "1                  200  \n"
     ]
    }
   ],
   "source": [
    "#7\n",
    "import pandas as pd\n",
    "\n",
    "# Test Data\n",
    "student_data1 = pd.DataFrame({\n",
    "    'student_id': ['S1', 'S2', 'S3', 'S4', 'S5'],\n",
    "    'name': ['Danniella Fenton', 'Ryder Storey', 'Bryce Jensen', 'Ed Bernal', 'Kwame Morin'],\n",
    "    'marks': [200, 210, 190, 222, 199]\n",
    "})\n",
    "\n",
    "student_data2 = pd.DataFrame({\n",
    "    'student_id': ['S4', 'S5', 'S6', 'S7', 'S8'],\n",
    "    'name': ['Scarlette Fisher', 'Carla Williamson', 'Dante Morse', 'Kaiser William', 'Madeeha Preston'],\n",
    "    'marks': [201, 200, 198, 219, 201]\n",
    "})\n",
    "\n",
    "# Joining the dataframes with matching records using 'inner' join\n",
    "merged_data = pd.merge(student_data1, student_data2, on='student_id', how='inner', suffixes=('_student_data1', '_student_data2'))\n",
    "\n",
    "# Displaying the merged data\n",
    "print(merged_data)\n"
   ]
  },
  {
   "cell_type": "code",
   "execution_count": 13,
   "id": "27627eb5",
   "metadata": {},
   "outputs": [
    {
     "name": "stdout",
     "output_type": "stream",
     "text": [
      "  key1 key2   P   Q    R    S\n",
      "0   K0   K0  P0  Q0   R0   S0\n",
      "1   K0   K1  P1  Q1  NaN  NaN\n",
      "2   K1   K0  P2  Q2   R1   S1\n",
      "3   K1   K0  P2  Q2   R2   S2\n",
      "4   K2   K1  P3  Q3  NaN  NaN\n"
     ]
    }
   ],
   "source": [
    "#8\n",
    "import pandas as pd\n",
    "\n",
    "# Test Data\n",
    "data1 = pd.DataFrame({\n",
    "    'key1': ['K0', 'K0', 'K1', 'K2'],\n",
    "    'key2': ['K0', 'K1', 'K0', 'K1'],\n",
    "    'P': ['P0', 'P1', 'P2', 'P3'],\n",
    "    'Q': ['Q0', 'Q1', 'Q2', 'Q3']\n",
    "})\n",
    "\n",
    "data2 = pd.DataFrame({\n",
    "    'key1': ['K0', 'K1', 'K1', 'K2'],\n",
    "    'key2': ['K0', 'K0', 'K0', 'K0'],\n",
    "    'R': ['R0', 'R1', 'R2', 'R3'],\n",
    "    'S': ['S0', 'S1', 'S2', 'S3']\n",
    "})\n",
    "\n",
    "# Performing left join\n",
    "left_joined_data = pd.merge(data1, data2, on=['key1', 'key2'], how='left')\n",
    "\n",
    "# Displaying the left joined data\n",
    "print(left_joined_data)\n"
   ]
  },
  {
   "cell_type": "code",
   "execution_count": 14,
   "id": "27510dd7",
   "metadata": {},
   "outputs": [
    {
     "name": "stdout",
     "output_type": "stream",
     "text": [
      "  key1 key2    P    Q   R   S\n",
      "0   K0   K0   P0   Q0  R0  S0\n",
      "1   K1   K0   P2   Q2  R1  S1\n",
      "2   K1   K0   P2   Q2  R2  S2\n",
      "3   K2   K0  NaN  NaN  R3  S3\n"
     ]
    }
   ],
   "source": [
    "#9\n",
    "import pandas as pd\n",
    "\n",
    "# Test Data\n",
    "data1 = pd.DataFrame({\n",
    "    'key1': ['K0', 'K0', 'K1', 'K2'],\n",
    "    'key2': ['K0', 'K1', 'K0', 'K1'],\n",
    "    'P': ['P0', 'P1', 'P2', 'P3'],\n",
    "    'Q': ['Q0', 'Q1', 'Q2', 'Q3']\n",
    "})\n",
    "\n",
    "data2 = pd.DataFrame({\n",
    "    'key1': ['K0', 'K1', 'K1', 'K2'],\n",
    "    'key2': ['K0', 'K0', 'K0', 'K0'],\n",
    "    'R': ['R0', 'R1', 'R2', 'R3'],\n",
    "    'S': ['S0', 'S1', 'S2', 'S3']\n",
    "})\n",
    "\n",
    "# Performing right join\n",
    "right_joined_data = pd.merge(data1, data2, on=['key1', 'key2'], how='right')\n",
    "\n",
    "# Displaying the right joined data\n",
    "print(right_joined_data)\n"
   ]
  },
  {
   "cell_type": "code",
   "execution_count": 15,
   "id": "76c7f545",
   "metadata": {},
   "outputs": [
    {
     "name": "stdout",
     "output_type": "stream",
     "text": [
      "  key1 key2   P   Q   R   S\n",
      "0   K0   K0  P0  Q0  R0  S0\n",
      "1   K1   K0  P2  Q2  R1  S1\n",
      "2   K1   K0  P2  Q2  R2  S2\n"
     ]
    }
   ],
   "source": [
    "#10\n",
    "import pandas as pd\n",
    "\n",
    "# Test Data\n",
    "data1 = pd.DataFrame({\n",
    "    'key1': ['K0', 'K0', 'K1', 'K2'],\n",
    "    'key2': ['K0', 'K1', 'K0', 'K1'],\n",
    "    'P': ['P0', 'P1', 'P2', 'P3'],\n",
    "    'Q': ['Q0', 'Q1', 'Q2', 'Q3']\n",
    "})\n",
    "\n",
    "data2 = pd.DataFrame({\n",
    "    'key1': ['K0', 'K1', 'K1', 'K2'],\n",
    "    'key2': ['K0', 'K0', 'K0', 'K0'],\n",
    "    'R': ['R0', 'R1', 'R2', 'R3'],\n",
    "    'S': ['S0', 'S1', 'S2', 'S3']\n",
    "})\n",
    "\n",
    "# Merging the datasets using multiple join keys\n",
    "merged_data = pd.merge(data1, data2, on=['key1', 'key2'])\n",
    "\n",
    "# Displaying the merged data\n",
    "print(merged_data)\n"
   ]
  },
  {
   "cell_type": "code",
   "execution_count": 16,
   "id": "8b26f46d",
   "metadata": {},
   "outputs": [
    {
     "name": "stdout",
     "output_type": "stream",
     "text": [
      "   New_Column1 New_Column2\n",
      "0            1           A\n",
      "1            2           B\n",
      "2            3           C\n",
      "3            4           D\n",
      "4            5           E\n"
     ]
    }
   ],
   "source": [
    "#11\n",
    "import pandas as pd\n",
    "\n",
    "# Existing series\n",
    "series1 = pd.Series([1, 2, 3, 4, 5])\n",
    "series2 = pd.Series(['A', 'B', 'C', 'D', 'E'])\n",
    "\n",
    "# Create a new DataFrame with specified column names\n",
    "new_df = pd.DataFrame({'New_Column1': series1, 'New_Column2': series2})\n",
    "\n",
    "# Display the new DataFrame\n",
    "print(new_df)\n"
   ]
  },
  {
   "cell_type": "code",
   "execution_count": 17,
   "id": "a596d60b",
   "metadata": {},
   "outputs": [
    {
     "name": "stdout",
     "output_type": "stream",
     "text": [
      "  key1 key2   P   Q   R   S\n",
      "1   K1   K0  P2  Q2  R1  S1\n",
      "2   K1   K0  P2  Q2  R2  S2\n"
     ]
    }
   ],
   "source": [
    "#12\n",
    "import pandas as pd\n",
    "\n",
    "# Test Data\n",
    "data1 = pd.DataFrame({\n",
    "    'key1': ['K0', 'K0', 'K1', 'K2'],\n",
    "    'key2': ['K0', 'K1', 'K0', 'K1'],\n",
    "    'P': ['P0', 'P1', 'P2', 'P3'],\n",
    "    'Q': ['Q0', 'Q1', 'Q2', 'Q3']\n",
    "})\n",
    "\n",
    "data2 = pd.DataFrame({\n",
    "    'key1': ['K0', 'K1', 'K1', 'K2'],\n",
    "    'key2': ['K0', 'K0', 'K0', 'K0'],\n",
    "    'R': ['R0', 'R1', 'R2', 'R3'],\n",
    "    'S': ['S0', 'S1', 'S2', 'S3']\n",
    "})\n",
    "\n",
    "# Merge both dataframes on key1 and key2\n",
    "merged_data = pd.merge(data1, data2, on=['key1', 'key2'])\n",
    "\n",
    "# Group by key1 and key2 and filter those combinations that appear more than once\n",
    "combination_more_than_once = merged_data.groupby(['key1', 'key2']).filter(lambda x: len(x) > 1)\n",
    "\n",
    "# Display the result\n",
    "print(combination_more_than_once)\n"
   ]
  },
  {
   "cell_type": "code",
   "execution_count": 18,
   "id": "6228e73c",
   "metadata": {},
   "outputs": [
    {
     "name": "stdout",
     "output_type": "stream",
     "text": [
      "      A    B    C    D\n",
      "K0   A0   B0   C0   D0\n",
      "K1   A1   B1  NaN  NaN\n",
      "K2   A2   B2   C2   D2\n",
      "K3  NaN  NaN   C3   D3\n"
     ]
    }
   ],
   "source": [
    "#13\n",
    "import pandas as pd\n",
    "\n",
    "# Test Data\n",
    "data1 = pd.DataFrame({\n",
    "    'A': ['A0', 'A1', 'A2'],\n",
    "    'B': ['B0', 'B1', 'B2']\n",
    "}, index=['K0', 'K1', 'K2'])\n",
    "\n",
    "data2 = pd.DataFrame({\n",
    "    'C': ['C0', 'C2', 'C3'],\n",
    "    'D': ['D0', 'D2', 'D3']\n",
    "}, index=['K0', 'K2', 'K3'])\n",
    "\n",
    "# Combine the columns of both DataFrames\n",
    "result = pd.concat([data1, data2], axis=1)\n",
    "\n",
    "# Display the result DataFrame\n",
    "print(result)\n"
   ]
  },
  {
   "cell_type": "code",
   "execution_count": 19,
   "id": "880cd409",
   "metadata": {},
   "outputs": [
    {
     "name": "stdout",
     "output_type": "stream",
     "text": [
      "  key1 key2   P   Q   R   S\n",
      "0   K0   K0  P0  Q0  R0  S0\n",
      "1   K1   K0  P2  Q2  R1  S1\n",
      "2   K1   K0  P2  Q2  R2  S2\n"
     ]
    }
   ],
   "source": [
    "#14\n",
    "import pandas as pd\n",
    "\n",
    "# Test Data\n",
    "data1 = pd.DataFrame({\n",
    "    'key1': ['K0', 'K0', 'K1', 'K2'],\n",
    "    'key2': ['K0', 'K1', 'K0', 'K1'],\n",
    "    'P': ['P0', 'P1', 'P2', 'P3'],\n",
    "    'Q': ['Q0', 'Q1', 'Q2', 'Q3']\n",
    "})\n",
    "\n",
    "data2 = pd.DataFrame({\n",
    "    'key1': ['K0', 'K1', 'K1', 'K2'],\n",
    "    'key2': ['K0', 'K0', 'K0', 'K0'],\n",
    "    'R': ['R0', 'R1', 'R2', 'R3'],\n",
    "    'S': ['S0', 'S1', 'S2', 'S3']\n",
    "})\n",
    "\n",
    "# Merge the two dataframes on the common columns 'key1' and 'key2'\n",
    "merged_data = pd.merge(data1, data2, on=['key1', 'key2'])\n",
    "\n",
    "# Display the merged data\n",
    "print(merged_data)\n"
   ]
  },
  {
   "cell_type": "code",
   "execution_count": 20,
   "id": "d6e04f11",
   "metadata": {},
   "outputs": [
    {
     "name": "stdout",
     "output_type": "stream",
     "text": [
      "     A    B\n",
      "0  1.0  3.0\n",
      "1  0.0  4.0\n",
      "2  3.0  5.0\n"
     ]
    }
   ],
   "source": [
    "#15\n",
    "import pandas as pd\n",
    "import numpy as np\n",
    "\n",
    "# Original DataFrames\n",
    "df1 = pd.DataFrame({'A': [np.nan, 0.0, np.nan],\n",
    "                    'B': [3, 4, 5]})\n",
    "\n",
    "df2 = pd.DataFrame({'A': [1, 1, 3],\n",
    "                    'B': [3.0, np.nan, 3.0]})\n",
    "\n",
    "# Combine the DataFrames by filling null values in df1 with non-null values from df2\n",
    "combined_df = df1.combine_first(df2)\n",
    "\n",
    "# Display the combined DataFrame\n",
    "print(combined_df)\n"
   ]
  },
  {
   "cell_type": "code",
   "execution_count": null,
   "id": "40491757",
   "metadata": {},
   "outputs": [],
   "source": []
  }
 ],
 "metadata": {
  "kernelspec": {
   "display_name": "Python 3 (ipykernel)",
   "language": "python",
   "name": "python3"
  },
  "language_info": {
   "codemirror_mode": {
    "name": "ipython",
    "version": 3
   },
   "file_extension": ".py",
   "mimetype": "text/x-python",
   "name": "python",
   "nbconvert_exporter": "python",
   "pygments_lexer": "ipython3",
   "version": "3.11.5"
  }
 },
 "nbformat": 4,
 "nbformat_minor": 5
}
